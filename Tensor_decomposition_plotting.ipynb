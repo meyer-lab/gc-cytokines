{
 "cells": [
  {
   "cell_type": "code",
   "execution_count": null,
   "metadata": {},
   "outputs": [],
   "source": [
    "from ckine import Tensor_analysis \n",
    "%matplotlib inline\n",
    "\n",
    "#Actually Apply these functions and see the plots\n",
    "factors = Tensor_analysis.perform_decomposition(Tensor_analysis.values , 8)\n",
    "Tensor_analysis.plot_values_decomposition(factors,1,2);\n",
    "Tensor_analysis.plot_timepoint_decomp(factors,1,2);\n",
    "Tensor_analysis.plot_combo_decomp(factors, Tensor_analysis.mat, 7, 8);"
   ]
  },
  {
   "cell_type": "code",
   "execution_count": null,
   "metadata": {},
   "outputs": [],
   "source": [
    "from ckine import Tensor_analysis\n",
    "Tensor_analysis.plot_R2X(Tensor_analysis.values, 16);"
   ]
  },
  {
   "cell_type": "code",
   "execution_count": null,
   "metadata": {},
   "outputs": [],
   "source": [
    "Tensor_analysis.values.shape\n",
    "print(Tensor_analysis.values[100][0])\n",
    "print(Tensor_analysis.mat.shape)"
   ]
  },
  {
   "cell_type": "code",
   "execution_count": null,
   "metadata": {},
   "outputs": [],
   "source": [
    "%matplotlib inline\n",
    "import matplotlib.pyplot as plt\n",
    "\n",
    "for i in range(1,8):\n",
    "    Tensor_analysis.plot_timepoint_decomp(factors,i,i+1);\n"
   ]
  },
  {
   "cell_type": "code",
   "execution_count": null,
   "metadata": {},
   "outputs": [],
   "source": [
    "#Generate a plot for component 1 vs component 2 of the factors[2] above representing our values\n",
    "labels = ['IL2', 'IL15', 'IL7', 'IL9', 'IL2Ra', 'IL2Rb', 'gc', 'IL15Ra', 'IL7Ra', 'IL9R', 'IL2Ra', 'IL2Rb', 'gc', 'IL15Ra', 'IL7Ra', 'IL9R']\n",
    "#fig = plt.figure()\n",
    "\n",
    "fig, ax = plt.subplots(nrows=2, ncols=3, figsize = (15,7))\n",
    "fig.suptitle(\"Values Decomposition: Ligand Activity = Red; Surface Receptor= Blue; Total Receptor= Black\", fontsize=16)\n",
    "plt.subplots_adjust(left=None, bottom=None, right=1.2, top=None,\n",
    "                wspace=None, hspace=None)\n",
    "\n",
    "#Set Active to color red\n",
    "#Set Surface to color blue\n",
    "# Set Total to color black\n",
    "\n",
    "component_x = 0\n",
    "component_y = 1\n",
    "\n",
    "for row in ax:\n",
    "    for col in row: \n",
    "        component_x += 1\n",
    "        component_y += 1\n",
    "        col.set_xlabel('Component ' + str(component_x))\n",
    "        col.set_ylabel('Component ' + str(component_y))\n",
    "       \n",
    "        for i in range(len(factors[2])):\n",
    "            if i in range(4):\n",
    "                c = 'r'\n",
    "                col.scatter(factors[2][:,component_x - 1][i], factors[2][:,component_y - 1][i], color = c, label = 'Ligand Activity')\n",
    "                col.annotate(labels[i], xy=(factors[2][:,component_x - 1][i], factors[2][:,component_y - 1][i]), xytext = (0, 0), textcoords = 'offset points')\n",
    "            elif i in range(4,10):\n",
    "                c = 'b'\n",
    "                col.scatter(factors[2][:,component_x - 1][i], factors[2][:,component_y - 1][i], color = c, label = 'Surface Receptor')\n",
    "                col.annotate(labels[i], xy=(factors[2][:,component_x - 1][i], factors[2][:,component_y - 1][i]), xytext = (0, 0), textcoords = 'offset points')\n",
    "            else:\n",
    "                c = 'k'\n",
    "            if i==10:\n",
    "                col.scatter(factors[2][:,component_x - 1][i], factors[2][:,component_y - 1][i], color = c, label = 'Total Receptor')\n",
    "                col.annotate(labels[i], xy=(factors[2][:,component_x - 1][i], factors[2][:,component_y - 1][i]), xytext = (0, 0), textcoords = 'offset points')\n",
    "\n",
    "        "
   ]
  },
  {
   "cell_type": "code",
   "execution_count": null,
   "metadata": {},
   "outputs": [],
   "source": []
  },
  {
   "cell_type": "code",
   "execution_count": null,
   "metadata": {},
   "outputs": [],
   "source": [
    "print(y_of_combos)"
   ]
  },
  {
   "cell_type": "code",
   "execution_count": null,
   "metadata": {},
   "outputs": [],
   "source": [
    "from ckine import Tensor_analysis \n",
    "\n",
    "Tensor_analysis.values.shape\n",
    "print(Tensor_analysis.values[10][0])\n",
    "print(Tensor_analysis.mat.shape)"
   ]
  },
  {
   "cell_type": "code",
   "execution_count": 2,
   "metadata": {},
   "outputs": [
    {
     "name": "stdout",
     "output_type": "stream",
     "text": [
      "[4.e-03 4.e+02 4.e+02 0.e+00 0.e+00 0.e+00 0.e+00 0.e+00 0.e+00 0.e+00\n",
      " 4.e-03 0.e+00 0.e+00 0.e+00 0.e+00 0.e+00 0.e+00 0.e+00 4.e-03 0.e+00\n",
      " 0.e+00 0.e+00 4.e-03 0.e+00 0.e+00 0.e+00 8.e-03 8.e+02 8.e+02 0.e+00\n",
      " 0.e+00 0.e+00 0.e+00 0.e+00 0.e+00 0.e+00 8.e-03 0.e+00 0.e+00 0.e+00\n",
      " 0.e+00 0.e+00 0.e+00 0.e+00 8.e-03 0.e+00 0.e+00 0.e+00 8.e-03 0.e+00\n",
      " 0.e+00 0.e+00 0.e+00 0.e+00 0.e+00 0.e+00]\n"
     ]
    }
   ],
   "source": [
    "print(y_of_combos[100][0])"
   ]
  },
  {
   "cell_type": "code",
   "execution_count": 1,
   "metadata": {},
   "outputs": [
    {
     "name": "stderr",
     "output_type": "stream",
     "text": [
      "100%|██████████| 1024/1024 [00:02<00:00, 433.27it/s]\n"
     ]
    }
   ],
   "source": [
    "from ckine import tensor_generation\n",
    "\n",
    "y_of_combos, mat = tensor_generation.findy(2,2);\n"
   ]
  },
  {
   "cell_type": "code",
   "execution_count": null,
   "metadata": {},
   "outputs": [],
   "source": []
  }
 ],
 "metadata": {
  "kernelspec": {
   "display_name": "Python 3",
   "language": "python",
   "name": "python3"
  },
  "language_info": {
   "codemirror_mode": {
    "name": "ipython",
    "version": 3
   },
   "file_extension": ".py",
   "mimetype": "text/x-python",
   "name": "python",
   "nbconvert_exporter": "python",
   "pygments_lexer": "ipython3",
   "version": "3.6.5"
  }
 },
 "nbformat": 4,
 "nbformat_minor": 2
}
