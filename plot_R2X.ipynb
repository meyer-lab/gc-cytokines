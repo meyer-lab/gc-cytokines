{
 "cells": [
  {
   "cell_type": "code",
   "execution_count": 1,
   "metadata": {},
   "outputs": [
    {
     "name": "stderr",
     "output_type": "stream",
     "text": [
      "Using mxnet backend.\n",
      "/usr/local/lib/python3.6/dist-packages/h5py/__init__.py:36: FutureWarning: Conversion of the second argument of issubdtype from `float` to `np.floating` is deprecated. In future, it will be treated as `np.float64 == np.dtype(float).type`.\n",
      "  from ._conv import register_converters as _register_converters\n",
      "Using numpy backend.\n"
     ]
    }
   ],
   "source": [
    "from ckine import Tensor_analysis\n",
    "import numpy as np\n",
    "\n",
    "arr = []\n",
    "for n in range(1,16):\n",
    "    R2X = Tensor_analysis.find_R2X(Tensor_analysis.values, n)\n",
    "    arr.append(R2X)\n"
   ]
  },
  {
   "cell_type": "code",
   "execution_count": 2,
   "metadata": {},
   "outputs": [
    {
     "name": "stdout",
     "output_type": "stream",
     "text": [
      "[0.1494437578269341, 0.28548125940949454, 0.4182668200241304, 0.5463811126715143, 0.6710290161761179, 0.7948367778581058, 0.85818313131709, 0.9132793778935622, 0.9648271331708338, 0.9955776349543077, 0.9970466448686829, 0.9984537127051385, 0.9985767452923204, 0.9991032290379235, 0.9992515322047034]\n"
     ]
    }
   ],
   "source": [
    "print(arr)"
   ]
  },
  {
   "cell_type": "code",
   "execution_count": 3,
   "metadata": {},
   "outputs": [
    {
     "data": {
      "image/png": "[encoded data removed]",
      "text/plain": [
       "<matplotlib.figure.Figure at 0x7fa55ff12d30>"
      ]
     },
     "metadata": {},
     "output_type": "display_data"
    }
   ],
   "source": [
    "%matplotlib inline\n",
    "import matplotlib.pyplot as plt\n",
    "plt.figure()\n",
    "plt.scatter(range(1,16),arr)\n",
    "#plt.ylim((-1.001,-0.998))\n",
    "plt.title('R2X for various components')\n",
    "plt.xlabel('n_components')\n",
    "plt.ylabel('R2X')\n",
    "plt.grid()\n",
    "plt.show()"
   ]
  },
  {
   "cell_type": "code",
   "execution_count": null,
   "metadata": {},
   "outputs": [],
   "source": []
  }
 ],
 "metadata": {
  "kernelspec": {
   "display_name": "Python 3",
   "language": "python",
   "name": "python3"
  },
  "language_info": {
   "codemirror_mode": {
    "name": "ipython",
    "version": 3
   },
   "file_extension": ".py",
   "mimetype": "text/x-python",
   "name": "python",
   "nbconvert_exporter": "python",
   "pygments_lexer": "ipython3",
   "version": "3.6.5rc1"
  }
 },
 "nbformat": 4,
 "nbformat_minor": 2
}
